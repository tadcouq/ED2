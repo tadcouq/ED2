{
 "cells": [
  {
   "cell_type": "markdown",
   "metadata": {},
   "source": [
    "# Nguyễn Quốc Đạt 20231570\n",
    "\n",
    "##  Câu 1: Sử dụng thư viện nltk để tách từ trong câu hoặc đoạn"
   ]
  },
  {
   "cell_type": "code",
   "execution_count": 1,
   "metadata": {},
   "outputs": [
    {
     "name": "stdout",
     "output_type": "stream",
     "text": [
      "['Hello world.', 'How are you?']\n"
     ]
    }
   ],
   "source": [
    "import nltk\n",
    "\n",
    "# đổi nltk.data.path trỏ theo đúng setup trên windows, đổi qua linux thì bỏ\n",
    "nltk.data.path.append('F:/nltk_data')\n",
    "\n",
    "from nltk.data import load\n",
    "tokenizer = load('tokenizers/punkt/english.pickle')\n",
    "print(tokenizer.tokenize(\"Hello world. How are you?\"))"
   ]
  },
  {
   "cell_type": "code",
   "execution_count": 6,
   "metadata": {},
   "outputs": [
    {
     "name": "stdout",
     "output_type": "stream",
     "text": [
      "['Hello', 'world', '.', 'How', 'are', 'you', '?', 'What', 'have', 'you', 'been', 'doing', '?']\n"
     ]
    }
   ],
   "source": [
    "from nltk.tokenize import word_tokenize\n",
    "\n",
    "sentence = \"Hello world. How are you? What have you been doing?\"\n",
    "words = word_tokenize(sentence)\n",
    "print(words)"
   ]
  },
  {
   "cell_type": "code",
   "execution_count": 7,
   "metadata": {},
   "outputs": [
    {
     "name": "stdout",
     "output_type": "stream",
     "text": [
      "<FreqDist with 11 samples and 13 outcomes>\n",
      "Hello: 1\n",
      "world: 1\n",
      ".: 1\n",
      "How: 1\n",
      "are: 1\n",
      "you: 2\n",
      "?: 2\n",
      "What: 1\n",
      "have: 1\n",
      "been: 1\n",
      "doing: 1\n"
     ]
    }
   ],
   "source": [
    "from nltk.probability import FreqDist\n",
    "\n",
    "# tính toán tần suất xuất hiện của các từ\n",
    "freq_dist = FreqDist(words)\n",
    "print(freq_dist)\n",
    "\n",
    "# in ra\n",
    "for word, frequency in freq_dist.items():\n",
    "    print(f'{word}: {frequency}')"
   ]
  },
  {
   "cell_type": "code",
   "execution_count": 8,
   "metadata": {},
   "outputs": [
    {
     "name": "stdout",
     "output_type": "stream",
     "text": [
      "['Hello', 'world', 'How', 'are', 'you', 'What', 'have', 'you', 'been', 'doing']\n"
     ]
    }
   ],
   "source": [
    "# xác định từ muốn dừng\n",
    "stop_words = {'.', '?'}\n",
    "\n",
    "# loại bỏ và in ra những từ ko phải stop\n",
    "filtered_words = [word for word in words if word not in stop_words]\n",
    "print(filtered_words)"
   ]
  },
  {
   "cell_type": "code",
   "execution_count": null,
   "metadata": {},
   "outputs": [
    {
     "name": "stdout",
     "output_type": "stream",
     "text": [
      "['Hello', 'world', 'How', 'are', 'you', 'What', 'have', 'you', 'been', 'doing']\n"
     ]
    }
   ],
   "source": [
    "from nltk.stem import WordNetLemmatizer\n",
    "\n",
    "lemmatizer = WordNetLemmatizer()\n",
    "\n",
    "# tìm từ gốc của từng từ trong danh sách filtered_words\n",
    "lemmas = [lemmatizer.lemmatize(word) for word in filtered_words]\n",
    "print(lemmas)\n",
    "\n",
    "# có lẽ ví dụ đưa ra phía trên chưa rõ ràng"
   ]
  },
  {
   "cell_type": "markdown",
   "metadata": {},
   "source": [
    "## Câu 2: Viết hàm/chương trình chuẩn hoá 1 đoạn văn Tiếng Việt\n",
    "### Ví dụ đầu vào, đầu ra của hàm/chương trình như sau:\n",
    "Đoạn văn đầu vào: \"Tỷ giá trung tâm giữa đồng Việt Nam (VND) và đô la Mỹ (USD) được NHNN công bố hôm 22/9 ở mức 24.060 đồng mỗi USD. Giá USD tại các ngân hàng thương mại hôm 23/9 được giao dịch quanh mức 24.160-23.530 đồng/USD (mua vào bán ra).\" <br>\n",
    "\n",
    "Đoạn văn đầu ra: \"tỷ giá trung tâm giữa đồng việt nam vê nờ đê và đô la mỹ u ét đê được ngân hàng nhà nước công bố hôm hai mươi hai tháng chín ở mức hai mươi không trăm sáu mươi đồng mỗi u ét đê. giá u ét đê tại các ngân hàng thương mại hôm hai mươi ba tháng chín được giao dịch mức hai mươi nghìn một trăm sáu mươi tới hai mươi tư nghìn năm trăm ba mưới đồng trên u ét đê mua vào và bán ra \"\n",
    "\n",
    "### Hướng giải quyết bài toán\n",
    "Có thể thấy việc chuẩn hoá yêu cầu trong bài toán cũng đã có bôi đỏ và xanh những phần cần chú ý trong file PDF khi đồng hoá toàn bộ cần viết thường, giải nghĩa các từ viết tắt và số tiền được đề cập, đồng thời có 1 số ký hiệu như '-' hay '/' cũng cần đổi về dạng từ"
   ]
  },
  {
   "cell_type": "code",
   "execution_count": 1,
   "metadata": {},
   "outputs": [
    {
     "name": "stdout",
     "output_type": "stream",
     "text": [
      "tỷ giá trung tâm giữa đồng việt nam việt nam vê nờ đê và đô la mỹ u ét đê được ngân hàng nhà nước công bố hôm hai mươi hai tháng chín ở mức hai mươi bốn không trăm sáu mươi đồng mỗi u ét đê giá u ét đê tại các ngân hàng thương mại hôm hai mươi ba tháng chín được giao dịch quanh mức hai mươi bốn không trăm một trăm sáu mươi hai mươi ba không trăm năm trăm ba mươi đồng u ét đê mua vào bán ra\n"
     ]
    }
   ],
   "source": [
    "import re\n",
    "\n",
    "# bảng thay thế viết tắt\n",
    "VIETNAMESE_ABBREVIATIONS = {\n",
    "    \"NHNN\": \"ngân hàng nhà nước\",\n",
    "    \"VND\": \"việt nam vê nờ đê\",\n",
    "    \"USD\": \"u ét đê\",\n",
    "}\n",
    "\n",
    "# chuyển số nguyên sang chữ tiếng Việt\n",
    "def number_to_vietnamese(n):\n",
    "    units = [\"\", \"một\", \"hai\", \"ba\", \"bốn\", \"năm\", \"sáu\", \"bảy\", \"tám\", \"chín\"]\n",
    "    tens = [\"\", \"mười\", \"hai mươi\", \"ba mươi\", \"bốn mươi\", \"năm mươi\", \"sáu mươi\", \"bảy mươi\", \"tám mươi\", \"chín mươi\"]\n",
    "    \n",
    "    if n < 10:\n",
    "        return units[n]\n",
    "    elif n < 100:\n",
    "        return tens[n // 10] + (\" \" + units[n % 10] if n % 10 != 0 else \"\")\n",
    "    elif n < 1000:\n",
    "        return units[n // 100] + \" trăm \" + (number_to_vietnamese(n % 100) if n % 100 != 0 else \"\")\n",
    "    elif n < 1000000:\n",
    "        return number_to_vietnamese(n // 1000) + \" nghìn \" + (number_to_vietnamese(n % 1000) if n % 1000 != 0 else \"\")\n",
    "\n",
    "# hàm chuẩn hóa văn bản tiếng Việt\n",
    "def normalize_vietnamese_text(text):\n",
    "    # chuyển về chữ thường\n",
    "    text = text.lower()\n",
    "\n",
    "    # thay thế các viết tắt\n",
    "    for abbr, full in VIETNAMESE_ABBREVIATIONS.items():\n",
    "        text = text.replace(abbr.lower(), full)\n",
    "\n",
    "    # chuyển đổi ngày tháng dạng \"22/9\" thành \"hai mươi hai tháng chín\"\n",
    "    text = re.sub(r'(\\d{1,2})/(\\d{1,2})', lambda m: f\"{number_to_vietnamese(int(m.group(1)))} tháng {number_to_vietnamese(int(m.group(2)))}\", text)\n",
    "\n",
    "    # chuyển đổi số thập phân (dấu `.`) sang chữ\n",
    "    text = re.sub(r'(\\d+)\\.(\\d+)', lambda m: f\"{number_to_vietnamese(int(m.group(1)))} không trăm {number_to_vietnamese(int(m.group(2)))}\", text)\n",
    "\n",
    "    # chuyển đổi số nguyên sang chữ\n",
    "    text = re.sub(r'\\b\\d+\\b', lambda m: number_to_vietnamese(int(m.group(0))), text)\n",
    "\n",
    "    # chuẩn hóa dấu câu, khoảng trắng\n",
    "    text = re.sub(r'[^a-zA-Z0-9 àáạảãâầấậẩẫăằắặẳẵèéẹẻẽêềếệểễìíịỉĩòóọỏõôồốộổỗơờớợởỡùúụủũưừứựửữỳýỵỷỹđ]', ' ', text)  # Giữ lại chữ và số\n",
    "    \"\"\"\n",
    "    lý do để có 1 dòng regex dài như vậy nhằm giữ lại các ký tự tiếng Việt từ các nguyên âm chính 'aeiouy' và các biến thể + trường hợp đặc biệt 'đ', số và khoảng trắng, còn các ký tự khác sẽ bị bỏ qua thay thế bằng khoảng trắng\n",
    "    chi tiết cụ thể được hướng dẫn qua 1 bài viết: https://www.facebook.com/photo.php?fbid=357731432600303&id=113963433643772&set=a.115372476836201&locale=vi_VN\n",
    "    \"\"\" \n",
    "    text = re.sub(r'\\s+', ' ', text).strip()  # Xóa khoảng trắng thừa\n",
    "    \n",
    "    return text\n",
    "\n",
    "# ví dụ sử dụng\n",
    "input_text = \"Tỷ giá trung tâm giữa đồng Việt Nam (VND) và đô la Mỹ (USD) được NHNN công bố hôm 22/9 ở mức 24.060 đồng mỗi USD. Giá USD tại các ngân hàng thương mại hôm 23/9 được giao dịch quanh mức 24.160-23.530 đồng/USD (mua vào bán ra).\"\n",
    "output_text = normalize_vietnamese_text(input_text)\n",
    "\n",
    "print(output_text)\n"
   ]
  }
 ],
 "metadata": {
  "kernelspec": {
   "display_name": "Python 3",
   "language": "python",
   "name": "python3"
  },
  "language_info": {
   "codemirror_mode": {
    "name": "ipython",
    "version": 3
   },
   "file_extension": ".py",
   "mimetype": "text/x-python",
   "name": "python",
   "nbconvert_exporter": "python",
   "pygments_lexer": "ipython3",
   "version": "3.13.2"
  }
 },
 "nbformat": 4,
 "nbformat_minor": 2
}
